{
 "cells": [
  {
   "cell_type": "code",
   "execution_count": 9,
   "metadata": {},
   "outputs": [
    {
     "name": "stdout",
     "output_type": "stream",
     "text": [
      "Hoje é: 2023-04-08\n",
      "Bora estudar\n",
      "150\n",
      "10.5\n",
      "1j\n",
      "['Salve', 'Seja Bem vindo', 100, 50, True]\n",
      "('A', 'B')\n",
      "range(0, 10)\n",
      "{'nome': 'Garrido', 'cargo': 'Analista de Dados', 'idade': 32}\n",
      "{'F', 'OI', 'A'}\n",
      "frozenset({'oi', 'claro', 'vivo'})\n",
      "True\n",
      "b'\\x00\\x00\\x00\\x00\\x00\\x00\\x00\\x00\\x00\\x00\\x00\\x00\\x00\\x00\\x00\\x00\\x00\\x00\\x00\\x00\\x00\\x00\\x00\\x00\\x00\\x00\\x00\\x00\\x00\\x00\\x00\\x00\\x00\\x00\\x00\\x00\\x00\\x00\\x00\\x00\\x00\\x00\\x00\\x00\\x00\\x00\\x00\\x00\\x00\\x00'\n",
      "bytearray(b'\\x00\\x00\\x00\\x00\\x00\\x00\\x00\\x00\\x00\\x00\\x00\\x00\\x00\\x00\\x00\\x00\\x00\\x00\\x00\\x00\\x00\\x00\\x00\\x00\\x00\\x00\\x00\\x00\\x00\\x00\\x00\\x00\\x00\\x00\\x00\\x00\\x00\\x00\\x00\\x00\\x00\\x00\\x00\\x00\\x00\\x00\\x00\\x00\\x00\\x00\\x00\\x00\\x00\\x00\\x00\\x00\\x00\\x00\\x00\\x00\\x00\\x00\\x00\\x00\\x00\\x00\\x00\\x00\\x00\\x00\\x00\\x00\\x00\\x00\\x00\\x00\\x00\\x00\\x00\\x00\\x00\\x00\\x00\\x00\\x00\\x00\\x00\\x00\\x00\\x00\\x00\\x00\\x00\\x00\\x00\\x00\\x00\\x00\\x00\\x00\\x00\\x00\\x00\\x00\\x00\\x00\\x00\\x00\\x00\\x00\\x00\\x00\\x00\\x00\\x00\\x00\\x00\\x00\\x00\\x00\\x00\\x00\\x00\\x00\\x00\\x00\\x00\\x00\\x00\\x00\\x00\\x00\\x00\\x00\\x00\\x00\\x00\\x00\\x00\\x00\\x00\\x00\\x00\\x00\\x00\\x00\\x00\\x00\\x00\\x00\\x00\\x00\\x00\\x00\\x00\\x00\\x00\\x00\\x00\\x00\\x00\\x00\\x00\\x00\\x00\\x00\\x00\\x00\\x00\\x00\\x00\\x00\\x00\\x00\\x00\\x00\\x00\\x00\\x00\\x00\\x00\\x00\\x00\\x00\\x00\\x00\\x00\\x00\\x00\\x00\\x00\\x00\\x00\\x00\\x00\\x00\\x00\\x00\\x00\\x00')\n",
      "<memory at 0x0000021B09BC1300>\n"
     ]
    }
   ],
   "source": [
    "String = str(\"Bora estudar\")\n",
    "Inteiro = int(150)\n",
    "Flutuante = float(10.5)\n",
    "Complex = complex(1j)\n",
    "Lista = list((\"Salve\", \"Seja Bem vindo\", 100, 50, True))\n",
    "Tupla = tuple( ('A', 'B'))\n",
    "Range = range(10)\n",
    "Dicionario = dict(nome = \"Garrido\", cargo = \"Analista de Dados\", idade = 32)\n",
    "Set  = set(('A', 'F', 'OI'))\n",
    "Fronzet = frozenset((\"vivo\", \"claro\", 'oi'))\n",
    "Boleano = bool(20)\n",
    "Bytes = bytes(50)\n",
    "ByteArray = bytearray(200)\n",
    "MemoryView = memoryview(bytes(20))\n",
    "\n",
    "from datetime import datetime\n",
    "Data = datetime.today().date()\n",
    "\n",
    "print(\"Hoje é:\",Data)\n",
    "print(String)\n",
    "print(Inteiro)\n",
    "print(Flutuante)\n",
    "print(Complex)\n",
    "print(Lista)\n",
    "print(Tupla)\n",
    "print(Range)\n",
    "print(Dicionario)\n",
    "print(Set)\n",
    "print(Fronzet)\n",
    "print(Boleano)\n",
    "print(Bytes)\n",
    "print(ByteArray)\n",
    "print(MemoryView)\n"
   ]
  },
  {
   "cell_type": "code",
   "execution_count": null,
   "metadata": {},
   "outputs": [],
   "source": []
  }
 ],
 "metadata": {
  "kernelspec": {
   "display_name": "Python 3",
   "language": "python",
   "name": "python3"
  },
  "language_info": {
   "codemirror_mode": {
    "name": "ipython",
    "version": 3
   },
   "file_extension": ".py",
   "mimetype": "text/x-python",
   "name": "python",
   "nbconvert_exporter": "python",
   "pygments_lexer": "ipython3",
   "version": "3.10.11"
  },
  "orig_nbformat": 4,
  "vscode": {
   "interpreter": {
    "hash": "3b7e9cb8e453d6cda0fe8c8dd13f891a1f09162f0e7c66ffeae7751a7aecf00d"
   }
  }
 },
 "nbformat": 4,
 "nbformat_minor": 2
}
