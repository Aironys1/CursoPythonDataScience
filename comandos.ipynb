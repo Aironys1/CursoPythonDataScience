{
 "cells": [
  {
   "attachments": {},
   "cell_type": "markdown",
   "metadata": {},
   "source": [
    "### Comando Round"
   ]
  },
  {
   "cell_type": "code",
   "execution_count": 7,
   "metadata": {},
   "outputs": [
    {
     "name": "stdout",
     "output_type": "stream",
     "text": [
      "150.8962654\n"
     ]
    },
    {
     "data": {
      "text/plain": [
       "150.896"
      ]
     },
     "execution_count": 7,
     "metadata": {},
     "output_type": "execute_result"
    }
   ],
   "source": [
    "numero = 150.8962654\n",
    "print(numero)\n",
    "\n",
    "# Agora vamos arrendodar o número com o comando round \n",
    "round(numero) # Arredondando \n",
    "round(numero, 1)  # Com uma casa decimal\n",
    "round(numero, 3) #  3 casas de decimais\n",
    "\n"
   ]
  },
  {
   "attachments": {},
   "cell_type": "markdown",
   "metadata": {},
   "source": [
    "### Comando len"
   ]
  },
  {
   "attachments": {},
   "cell_type": "markdown",
   "metadata": {},
   "source": [
    "A função len() ela retorna a quantidade de qualquer lista em python\n",
    "A função calcula a quantidade de elementos"
   ]
  },
  {
   "cell_type": "markdown",
   "metadata": {},
   "source": []
  },
  {
   "cell_type": "code",
   "execution_count": 16,
   "metadata": {},
   "outputs": [
    {
     "name": "stdout",
     "output_type": "stream",
     "text": [
      "Lista: 8\n",
      "Dicionario: 3\n",
      "Tupla 3\n",
      "String 17\n"
     ]
    }
   ],
   "source": [
    "Lista = [100,50,14,22,15,41,3,6]\n",
    "Dicionario = {'nome': 'Aironys', 'sobrenome': 'Garrido', 'idade': 32}\n",
    "Tupla = (10,'ANS', True)\n",
    "String = \"Somos os Melhores\"\n",
    "\n",
    "print(\"Lista:\", len(Lista))\n",
    "print(\"Dicionario:\",len(Dicionario))\n",
    "print(\"Tupla\",len(Tupla))\n",
    "print(\"String\",len(String))"
   ]
  },
  {
   "attachments": {},
   "cell_type": "markdown",
   "metadata": {},
   "source": [
    "### Fatiando Strings"
   ]
  },
  {
   "cell_type": "code",
   "execution_count": 31,
   "metadata": {},
   "outputs": [
    {
     "name": "stdout",
     "output_type": "stream",
     "text": [
      "<class 'str'>\n",
      "28\n",
      "Vamos\n",
      "V\n",
      "para\n"
     ]
    }
   ],
   "source": [
    "mensagem = \"Vamos estudar para ir longe!\"\n",
    "print(type(mensagem))\n",
    "print(len(mensagem))\n",
    "\n",
    "print(mensagem[0:5])\n",
    "print(mensagem[0])\n",
    "print(mensagem[14:18])"
   ]
  },
  {
   "cell_type": "code",
   "execution_count": 42,
   "metadata": {},
   "outputs": [
    {
     "name": "stdout",
     "output_type": "stream",
     "text": [
      "Meu cpf 569547125\n"
     ]
    }
   ],
   "source": [
    "cpf = 'CPF:569547125'\n",
    "cpf[-9:] # pegando os útimos 9 números\n",
    "\n",
    "print('Meu cpf', cpf[-9:]) # pegando os útimos 9 números\n"
   ]
  }
 ],
 "metadata": {
  "kernelspec": {
   "display_name": "Python 3",
   "language": "python",
   "name": "python3"
  },
  "language_info": {
   "codemirror_mode": {
    "name": "ipython",
    "version": 3
   },
   "file_extension": ".py",
   "mimetype": "text/x-python",
   "name": "python",
   "nbconvert_exporter": "python",
   "pygments_lexer": "ipython3",
   "version": "3.10.11"
  },
  "orig_nbformat": 4,
  "vscode": {
   "interpreter": {
    "hash": "3b7e9cb8e453d6cda0fe8c8dd13f891a1f09162f0e7c66ffeae7751a7aecf00d"
   }
  }
 },
 "nbformat": 4,
 "nbformat_minor": 2
}
