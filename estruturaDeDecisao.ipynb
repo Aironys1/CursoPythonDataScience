{
 "cells": [
  {
   "attachments": {},
   "cell_type": "markdown",
   "metadata": {},
   "source": [
    "# Estrutura de decisão"
   ]
  },
  {
   "cell_type": "code",
   "execution_count": 25,
   "metadata": {},
   "outputs": [
    {
     "name": "stdout",
     "output_type": "stream",
     "text": [
      "Aeeeeeeee\n",
      "Parabéns você foi aprovado\n"
     ]
    }
   ],
   "source": [
    "nota = 8\n",
    "if nota <=4:\n",
    "    print(\"Estude mais!\")\n",
    "    print(\"Que pena você não foi aprovado\")\n",
    "elif nota >4 and nota <=6:\n",
    "    print(\"Se prepare mais um pouco\")\n",
    "    print(\"Ficou em recupereção\")\n",
    "elif nota >=7 and nota <=10:\n",
    "    print(\"Aeeeeeeee\")\n",
    "    print(\"Parabéns você foi aprovado\")\n",
    "else:\n",
    "   print(\"ATENÇÃO!!!\")\n",
    "   print(\"Digite uma nota válida\")"
   ]
  },
  {
   "attachments": {},
   "cell_type": "markdown",
   "metadata": {},
   "source": [
    "Agora vamos criar um sistema de decisa mais complexo\n",
    "Lendo o nome do aluno e notas"
   ]
  },
  {
   "cell_type": "code",
   "execution_count": 51,
   "metadata": {},
   "outputs": [
    {
     "name": "stdout",
     "output_type": "stream",
     "text": [
      "Aironys ... Agora vamos receber as suas notas.\n",
      "Sua soma total das notas é: 25.7\n",
      "Sua média é: 8.57\n",
      "Aeeeeeeee\n",
      "Parabéns você foi aprovado\n"
     ]
    }
   ],
   "source": [
    "aluno = str(input(\"Nome do Aluno:\"))\n",
    "print(aluno,'...',\"Agora vamos receber as suas notas.\")\n",
    "\n",
    "nota1 = float(input(\"Digite sua primeira nota:\"))\n",
    "nota2 = float(input(\"Digite sua segunda nota:\"))\n",
    "nota3 = float(input(\"Digite sua terceira nota:\"))\n",
    "\n",
    "totalNotas =  print(\"Sua soma total das notas é:\", (nota1 + nota2 + nota3))\n",
    "media  = ((nota1 + nota2 + nota3) / 3)\n",
    "print(f\"Sua média é: {media:.2f}\")\n",
    "\n",
    "if media <=4:\n",
    "    print(\"Estude mais!\")\n",
    "    print(\"Que pena você não foi aprovado\")\n",
    "elif media >4 and media <=6:\n",
    "    print(\"Se prepare mais um pouco\")\n",
    "    print(\"Ficou em recupereção\")\n",
    "elif media >=7 and media <=10:\n",
    "    print(\"Aeeeeeeee\")\n",
    "    print(\"Parabéns você foi aprovado\")\n",
    "else:\n",
    "   print(\"ATENÇÃO!!!\")\n",
    "   print(\"Digite uma nota válida\")"
   ]
  }
 ],
 "metadata": {
  "kernelspec": {
   "display_name": "Python 3",
   "language": "python",
   "name": "python3"
  },
  "language_info": {
   "codemirror_mode": {
    "name": "ipython",
    "version": 3
   },
   "file_extension": ".py",
   "mimetype": "text/x-python",
   "name": "python",
   "nbconvert_exporter": "python",
   "pygments_lexer": "ipython3",
   "version": "3.10.10"
  },
  "orig_nbformat": 4
 },
 "nbformat": 4,
 "nbformat_minor": 2
}
