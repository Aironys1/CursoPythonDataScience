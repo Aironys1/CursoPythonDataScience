{
 "cells": [
  {
   "attachments": {},
   "cell_type": "markdown",
   "metadata": {},
   "source": [
    "### Funções "
   ]
  },
  {
   "cell_type": "code",
   "execution_count": 3,
   "metadata": {},
   "outputs": [
    {
     "name": "stdout",
     "output_type": "stream",
     "text": [
      "Imprimindo valor da função\n"
     ]
    }
   ],
   "source": [
    "# Função imprime\n",
    "def imprime():\n",
    "    print(\"Imprimindo valor da função\")\n",
    "imprime()"
   ]
  },
  {
   "cell_type": "code",
   "execution_count": 4,
   "metadata": {},
   "outputs": [
    {
     "name": "stdout",
     "output_type": "stream",
     "text": [
      "Aqui é uma função com parâmetros\n"
     ]
    }
   ],
   "source": [
    "# Função com parâmetros\n",
    "def imprime2(valor):\n",
    "    print(valor)\n",
    "imprime2(\"Aqui é uma função com parâmetros\")"
   ]
  },
  {
   "cell_type": "code",
   "execution_count": 6,
   "metadata": {},
   "outputs": [
    {
     "name": "stdout",
     "output_type": "stream",
     "text": [
      "40\n",
      "Função de retorno\n"
     ]
    }
   ],
   "source": [
    "# Função com retorno \n",
    "def soma(a,b):\n",
    "    return a + b\n",
    "print(soma(15,25))\n",
    "print(\"Função de retorno\")"
   ]
  },
  {
   "cell_type": "code",
   "execution_count": 10,
   "metadata": {},
   "outputs": [
    {
     "name": "stdout",
     "output_type": "stream",
     "text": [
      "1\n",
      "2\n",
      "3\n",
      "4\n",
      "5\n",
      "----------------------------------------------------\n",
      "1\n",
      "2\n",
      "3\n",
      "4\n",
      "5\n",
      "6\n",
      "7\n",
      "8\n",
      "9\n",
      "10\n"
     ]
    }
   ],
   "source": [
    "# Função com valor padrão \n",
    "def intervalo(inicio = 1, fim = 10):\n",
    "    for inicio in range(1, fim+1):\n",
    "        print(inicio)\n",
    "\n",
    "x = intervalo(1,5)\n",
    "print(\"----------------------------------------------------\")\n",
    "y = intervalo()"
   ]
  },
  {
   "attachments": {},
   "cell_type": "markdown",
   "metadata": {},
   "source": [
    "### Funções Padrões"
   ]
  },
  {
   "attachments": {},
   "cell_type": "markdown",
   "metadata": {},
   "source": [
    "# Funções internas\n"
   ]
  },
  {
   "cell_type": "code",
   "execution_count": 12,
   "metadata": {},
   "outputs": [
    {
     "name": "stdout",
     "output_type": "stream",
     "text": [
      "250\n"
     ]
    }
   ],
   "source": [
    "print(abs(-250)) # Função absoluta\n"
   ]
  },
  {
   "cell_type": "code",
   "execution_count": 22,
   "metadata": {},
   "outputs": [
    {
     "name": "stdout",
     "output_type": "stream",
     "text": [
      "[10, 15, 25, 45, 5, 12, 20]\n",
      "Valor máximo é: 45\n",
      "Valor mínimo é: 5\n"
     ]
    }
   ],
   "source": [
    "lista = [10,15,25,45,5,12,20]\n",
    "print(lista)\n",
    "print('Valor máximo é:',max(lista)) # Valor máximo\n",
    "print('Valor mínimo é:',min(lista)) # Valor mínimo"
   ]
  },
  {
   "cell_type": "code",
   "execution_count": 32,
   "metadata": {},
   "outputs": [
    {
     "name": "stdout",
     "output_type": "stream",
     "text": [
      "Média 18.857142857142858\n",
      "Média 19\n"
     ]
    }
   ],
   "source": [
    "from statistics import mean, median, mode\n",
    "print(\"Média\",mean(lista))\n",
    "print(\"Média\",round(mean(lista))) # Usando o round"
   ]
  },
  {
   "cell_type": "code",
   "execution_count": 56,
   "metadata": {},
   "outputs": [
    {
     "name": "stdout",
     "output_type": "stream",
     "text": [
      "<class 'numpy.ndarray'>\n",
      "[[0.03160778 0.45773408 0.570968   0.75699281 0.67418422 0.03907559\n",
      "  0.69476802 0.46846612 0.49290033 0.08311793 0.49403575 0.91369602\n",
      "  0.74938834 0.15384228 0.10656716 0.20742915 0.1111794  0.22761646\n",
      "  0.91836842 0.29988492 0.13244156 0.63721827 0.25218956 0.08506584\n",
      "  0.61388657 0.97738096 0.05416412 0.87571713 0.78560846 0.12151847\n",
      "  0.09536697 0.78311191 0.04450637 0.40888893 0.43345111 0.62616227\n",
      "  0.02001972 0.46140345 0.88917775 0.4997531  0.17433071 0.61839612\n",
      "  0.3430661  0.68785601 0.86415099 0.57690337 0.4177236  0.55312245\n",
      "  0.51904875 0.80989939]]\n"
     ]
    }
   ],
   "source": [
    "from numpy import random\n",
    "a = random.random((1,50))\n",
    "print(type(a))\n",
    "print(a)\n"
   ]
  },
  {
   "cell_type": "code",
   "execution_count": 80,
   "metadata": {},
   "outputs": [
    {
     "name": "stdout",
     "output_type": "stream",
     "text": [
      "[0 2]\n"
     ]
    }
   ],
   "source": [
    "# Gerar um número aleatório inteiro entre 0 e 9\n",
    "numeros = random.randint((1,5))\n",
    "print(numeros)"
   ]
  },
  {
   "cell_type": "code",
   "execution_count": 88,
   "metadata": {},
   "outputs": [
    {
     "name": "stdout",
     "output_type": "stream",
     "text": [
      "[3, 3, 0, 0, 1, 6, 7, 5, 2, 0, 0, 4, 3, 3, 5, 7, 8, 7, 2, 3, 4, 1, 0, 2, 0]\n"
     ]
    }
   ],
   "source": [
    "# Gerar uma lista aleatória de números inteiros entre 1 e 25 (com repetição)\n",
    "lista_inteiros = [random.randint(0, 9) for _ in range(25)]\n",
    "print(lista_inteiros)\n"
   ]
  },
  {
   "cell_type": "code",
   "execution_count": 18,
   "metadata": {},
   "outputs": [
    {
     "name": "stdout",
     "output_type": "stream",
     "text": [
      " ************************************\n",
      "Números da sorte são:\n"
     ]
    },
    {
     "data": {
      "text/plain": [
       "[1, 2, 4, 6, 8, 10, 13, 14, 15, 16, 17, 18, 20, 22, 23]"
      ]
     },
     "metadata": {},
     "output_type": "display_data"
    }
   ],
   "source": [
    "import random\n",
    "\n",
    "numeros = random.sample(range(1,25), 15)\n",
    "numeros_ordenados = sorted(numeros)\n",
    "print(\" ************************************\")\n",
    "print(\"Números da sorte são:\")\n",
    "display(numeros_ordenados)\n",
    "\n"
   ]
  }
 ],
 "metadata": {
  "kernelspec": {
   "display_name": "Python 3",
   "language": "python",
   "name": "python3"
  },
  "language_info": {
   "codemirror_mode": {
    "name": "ipython",
    "version": 3
   },
   "file_extension": ".py",
   "mimetype": "text/x-python",
   "name": "python",
   "nbconvert_exporter": "python",
   "pygments_lexer": "ipython3",
   "version": "3.10.11"
  },
  "orig_nbformat": 4
 },
 "nbformat": 4,
 "nbformat_minor": 2
}
