{
 "cells": [
  {
   "attachments": {},
   "cell_type": "markdown",
   "metadata": {},
   "source": [
    "# Variáveis e Objetos"
   ]
  },
  {
   "cell_type": "code",
   "execution_count": 3,
   "metadata": {},
   "outputs": [
    {
     "name": "stdout",
     "output_type": "stream",
     "text": [
      "10\n"
     ]
    },
    {
     "data": {
      "text/plain": [
       "int"
      ]
     },
     "execution_count": 3,
     "metadata": {},
     "output_type": "execute_result"
    }
   ],
   "source": [
    "# Criando uma variável do tipo inteiro\n",
    "x = 10\n",
    "print(x)\n",
    "type(x) # tipo inteiro"
   ]
  },
  {
   "cell_type": "code",
   "execution_count": 4,
   "metadata": {},
   "outputs": [
    {
     "name": "stdout",
     "output_type": "stream",
     "text": [
      "5.19\n"
     ]
    },
    {
     "data": {
      "text/plain": [
       "float"
      ]
     },
     "execution_count": 4,
     "metadata": {},
     "output_type": "execute_result"
    }
   ],
   "source": [
    "# Criando uma variável do tipo float\n",
    "y = 5.19\n",
    "print(y)\n",
    "type(y) # tipo float"
   ]
  },
  {
   "cell_type": "code",
   "execution_count": 5,
   "metadata": {},
   "outputs": [
    {
     "name": "stdout",
     "output_type": "stream",
     "text": [
      "Seja bem vindo\n"
     ]
    },
    {
     "data": {
      "text/plain": [
       "str"
      ]
     },
     "execution_count": 5,
     "metadata": {},
     "output_type": "execute_result"
    }
   ],
   "source": [
    "# Criando uma variável do tipo string\n",
    "palavra = \"Seja bem vindo\"\n",
    "print(palavra)\n",
    "type(palavra) # tipo string"
   ]
  },
  {
   "cell_type": "code",
   "execution_count": 7,
   "metadata": {},
   "outputs": [
    {
     "name": "stdout",
     "output_type": "stream",
     "text": [
      "True\n",
      "False\n"
     ]
    },
    {
     "data": {
      "text/plain": [
       "bool"
      ]
     },
     "execution_count": 7,
     "metadata": {},
     "output_type": "execute_result"
    }
   ],
   "source": [
    "# Criando uma variável do tipo lógico\n",
    "aberto = True\n",
    "fechado = False\n",
    "print(aberto)\n",
    "print(fechado)\n",
    "type(aberto)    # tipo lógico\n",
    "type(fechado)   # tipo lógico\n"
   ]
  },
  {
   "attachments": {},
   "cell_type": "markdown",
   "metadata": {},
   "source": [
    "## Calculando variáveis"
   ]
  },
  {
   "cell_type": "code",
   "execution_count": 12,
   "metadata": {},
   "outputs": [
    {
     "name": "stdout",
     "output_type": "stream",
     "text": [
      "Aluguel: 800\n",
      "financiamento: 1600\n",
      "wifi: 150\n",
      "netMovel: 100\n",
      "cartao: 1200\n",
      "salario: 4500\n"
     ]
    }
   ],
   "source": [
    "aluguel = 800\n",
    "financiamento = 1600\n",
    "wifi = 150\n",
    "netMovel = 100\n",
    "cartao = 1200\n",
    "salario = 4500\n",
    "\n",
    "# Imprimindo os valores das variáveis \n",
    "print('Aluguel:',aluguel)\n",
    "print('financiamento:',financiamento)\n",
    "print('wifi:',wifi)\n",
    "print('netMovel:',netMovel)\n",
    "print('cartao:',cartao)\n",
    "print('salario:',salario)\n",
    "\n"
   ]
  },
  {
   "cell_type": "code",
   "execution_count": 28,
   "metadata": {},
   "outputs": [
    {
     "name": "stdout",
     "output_type": "stream",
     "text": [
      "Total Contas:  3850 Reais\n",
      "sobrou:  650 Reais\n"
     ]
    }
   ],
   "source": [
    "totalContas = (aluguel + financiamento + wifi + netMovel + cartao)\n",
    "print(\"Total Contas: \", totalContas, \"Reais\")\n",
    "\n",
    "sobrou = (salario - totalContas)\n",
    "print(\"sobrou: \", sobrou, \"Reais\")\n"
   ]
  },
  {
   "attachments": {},
   "cell_type": "markdown",
   "metadata": {},
   "source": [
    "## Trabalhando com entradas (inputs)"
   ]
  },
  {
   "cell_type": "code",
   "execution_count": 31,
   "metadata": {},
   "outputs": [
    {
     "name": "stdout",
     "output_type": "stream",
     "text": [
      "50\n"
     ]
    }
   ],
   "source": [
    "entrada1 = input() \n",
    "print(entrada1)"
   ]
  },
  {
   "cell_type": "code",
   "execution_count": 35,
   "metadata": {},
   "outputs": [
    {
     "name": "stdout",
     "output_type": "stream",
     "text": [
      "Seu número é:\n",
      "500\n"
     ]
    }
   ],
   "source": [
    "print(\"Seu número é:\")\n",
    "entrada2 = input(\"Digite um número\")\n",
    "print(entrada2)"
   ]
  },
  {
   "attachments": {},
   "cell_type": "markdown",
   "metadata": {},
   "source": [
    "## Convertendo valores"
   ]
  },
  {
   "cell_type": "code",
   "execution_count": 49,
   "metadata": {},
   "outputs": [
    {
     "name": "stdout",
     "output_type": "stream",
     "text": [
      "Aironys Garrido\n",
      "Tipo: <class 'str'>\n",
      "30\n",
      "Tipo: <class 'int'>\n",
      "70.3\n",
      "Tipo: <class 'float'>\n",
      "Seu nome é:  Aironys Garrido Você tem:  30 anos e pesa:  70.3 Kg\n"
     ]
    }
   ],
   "source": [
    "nome = str(input(\"Digite seu nome\"))\n",
    "print(nome)\n",
    "print('Tipo:',type(nome))\n",
    "\n",
    "idade = int(input(\"Digite sua idade\"))\n",
    "print(idade)\n",
    "print('Tipo:',type(idade))\n",
    "\n",
    "peso = float(input(\"Digite seu peso\"))\n",
    "print(peso)\n",
    "print('Tipo:',type(peso))\n",
    "\n",
    "\n",
    "print(\"Seu nome é: \",nome, \"Você tem: \",idade, \"anos\", \"e pesa: \",peso , 'Kg' )\n",
    "\n",
    "\n"
   ]
  },
  {
   "cell_type": "code",
   "execution_count": null,
   "metadata": {},
   "outputs": [],
   "source": []
  }
 ],
 "metadata": {
  "kernelspec": {
   "display_name": "Python 3",
   "language": "python",
   "name": "python3"
  },
  "language_info": {
   "codemirror_mode": {
    "name": "ipython",
    "version": 3
   },
   "file_extension": ".py",
   "mimetype": "text/x-python",
   "name": "python",
   "nbconvert_exporter": "python",
   "pygments_lexer": "ipython3",
   "version": "3.10.10"
  },
  "orig_nbformat": 4
 },
 "nbformat": 4,
 "nbformat_minor": 2
}
