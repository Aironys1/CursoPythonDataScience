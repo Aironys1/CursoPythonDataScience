{
 "cells": [
  {
   "attachments": {},
   "cell_type": "markdown",
   "metadata": {},
   "source": [
    "### Faça um programa que tenha a função chamada amplitude. A função deve receber uma lista e imprimir a amplitude.\n"
   ]
  },
  {
   "attachments": {},
   "cell_type": "markdown",
   "metadata": {},
   "source": [
    "#### Amplitude é a diferença entre o maior para o menor valor de um conjunto de valores"
   ]
  },
  {
   "cell_type": "code",
   "execution_count": 39,
   "metadata": {},
   "outputs": [
    {
     "name": "stdout",
     "output_type": "stream",
     "text": [
      "Mínimo: 15 \n",
      " Máximo: 100\n",
      "A diferença entre 15 e 100 é: 85\n"
     ]
    }
   ],
   "source": [
    "# O resultado da chamada amplitude() será a amplitude da lista, que é 85.\n",
    "def amplitude():\n",
    "    numeros = [20,50,35,100,55,85,23,77,15]\n",
    "    print('Mínimo:',min(numeros), '\\n' , 'Máximo:',max(numeros))\n",
    "    return max(numeros) - min(numeros)\n",
    "print(\"A diferença entre 15 e 100 é:\" ,amplitude())\n",
    "\n",
    "# amplitude() # retorna 85 (diferença entre 100 e 15)"
   ]
  },
  {
   "attachments": {},
   "cell_type": "markdown",
   "metadata": {},
   "source": [
    "#### Faça uma função que receba uma string e imprima esta estring vertical"
   ]
  },
  {
   "cell_type": "code",
   "execution_count": 42,
   "metadata": {},
   "outputs": [
    {
     "name": "stdout",
     "output_type": "stream",
     "text": [
      "['A', 'p', 'r', 'e', 'n', 'd', 'e', 'n', 'd', 'o', ' ', 'm', 'u', 'i', 't', 'o']\n"
     ]
    }
   ],
   "source": [
    "texto = \"Aprendendo muito\"\n",
    "lista_vertical = []\n",
    "\n",
    "for letra in texto:\n",
    "    lista_vertical.append(letra)\n",
    "\n",
    "print(lista_vertical)\n"
   ]
  },
  {
   "cell_type": "code",
   "execution_count": 43,
   "metadata": {},
   "outputs": [
    {
     "name": "stdout",
     "output_type": "stream",
     "text": [
      "A\n",
      "p\n",
      "r\n",
      "e\n",
      "n\n",
      "d\n",
      "e\n",
      "n\n",
      "d\n",
      "o\n",
      " \n",
      "m\n",
      "u\n",
      "i\n",
      "t\n",
      "o\n"
     ]
    }
   ],
   "source": [
    "for elemento in lista_vertical:\n",
    "    print(elemento)"
   ]
  },
  {
   "attachments": {},
   "cell_type": "markdown",
   "metadata": {},
   "source": [
    "##### Imprimindo o nome verticalmente"
   ]
  },
  {
   "cell_type": "code",
   "execution_count": 68,
   "metadata": {},
   "outputs": [
    {
     "name": "stdout",
     "output_type": "stream",
     "text": [
      "A\n",
      "i\n",
      "r\n",
      "o\n",
      "n\n",
      "y\n",
      "s\n",
      " \n",
      "G\n",
      "a\n",
      "r\n",
      "r\n",
      "i\n",
      "d\n",
      "o\n"
     ]
    }
   ],
   "source": [
    "nome = \"Aironys Garrido\"\n",
    "for vertical in  nome:\n",
    "    print(vertical)"
   ]
  },
  {
   "cell_type": "code",
   "execution_count": 65,
   "metadata": {},
   "outputs": [
    {
     "name": "stdout",
     "output_type": "stream",
     "text": [
      "Valor é de: 50 Reais\n",
      "3\n"
     ]
    }
   ],
   "source": [
    "valor1 = 50\n",
    "valor2 = 80\n",
    "peso = int(input(\"Digite peso\"))\n",
    "\n",
    "if peso <= 10:\n",
    "    print(f\"Valor é de: {valor1} Reais\")\n",
    "elif peso >= 11 and peso <= 20:\n",
    "    print(f\"Valor é de: {valor2} Reais\")\n",
    "else:\n",
    "    print(f\"Valor não aceito!!!\")\n",
    "\n",
    "print(peso)"
   ]
  }
 ],
 "metadata": {
  "kernelspec": {
   "display_name": "Python 3",
   "language": "python",
   "name": "python3"
  },
  "language_info": {
   "codemirror_mode": {
    "name": "ipython",
    "version": 3
   },
   "file_extension": ".py",
   "mimetype": "text/x-python",
   "name": "python",
   "nbconvert_exporter": "python",
   "pygments_lexer": "ipython3",
   "version": "3.10.11"
  },
  "orig_nbformat": 4
 },
 "nbformat": 4,
 "nbformat_minor": 2
}
